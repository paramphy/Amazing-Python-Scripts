{
  "nbformat": 4,
  "nbformat_minor": 0,
  "metadata": {
    "colab": {
      "name": "Any File Download.ipynb",
      "provenance": [],
      "authorship_tag": "ABX9TyMGoS89GAVTEysHBKj80n1j",
      "include_colab_link": true
    },
    "kernelspec": {
      "name": "python3",
      "display_name": "Python 3"
    }
  },
  "cells": [
    {
      "cell_type": "markdown",
      "metadata": {
        "id": "view-in-github",
        "colab_type": "text"
      },
      "source": [
        "<a href=\"https://colab.research.google.com/github/paramphy/Amazing-Python-Scripts/blob/master/Any_File_Download.ipynb\" target=\"_parent\"><img src=\"https://colab.research.google.com/assets/colab-badge.svg\" alt=\"Open In Colab\"/></a>"
      ]
    },
    {
      "cell_type": "markdown",
      "metadata": {
        "id": "J3C6o94JwwpX"
      },
      "source": [
        "# Any File Downloader"
      ]
    },
    {
      "cell_type": "markdown",
      "metadata": {
        "id": "DK_o-zOhxKyA"
      },
      "source": [
        "### Mount Google Drive\r\n",
        "To stream files we need to mount Google Drive."
      ]
    },
    {
      "cell_type": "code",
      "metadata": {
        "id": "qh9gpnOgvp2N"
      },
      "source": [
        "from google.colab import drive\r\n",
        "drive.mount('/content/drive', force_remount = True)"
      ],
      "execution_count": null,
      "outputs": []
    },
    {
      "cell_type": "markdown",
      "metadata": {
        "id": "7GlwfdUrxhUg"
      },
      "source": [
        "### Code to download Files"
      ]
    },
    {
      "cell_type": "code",
      "metadata": {
        "id": "0oPuXmQ_vzuU"
      },
      "source": [
        "!wget -O '/content/drive/My Drive/Download/img1.jpg' \"https://unsplash.com/photos/u159a2eL6UE/download?force=true\""
      ],
      "execution_count": null,
      "outputs": []
    }
  ]
}